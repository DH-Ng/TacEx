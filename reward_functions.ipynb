{
 "cells": [
  {
   "cell_type": "code",
   "execution_count": 2,
   "metadata": {},
   "outputs": [],
   "source": [
    "%matplotlib widget\n",
    "import matplotlib.pyplot as plt\n",
    "from ipywidgets import interactive, FloatSlider, Layout\n",
    "import torch\n",
    "import numpy as np"
   ]
  },
  {
   "cell_type": "code",
   "execution_count": 3,
   "metadata": {},
   "outputs": [
    {
     "data": {
      "application/vnd.jupyter.widget-view+json": {
       "model_id": "240ab857dd0f4be58057d8b23b495a8b",
       "version_major": 2,
       "version_minor": 0
      },
      "text/plain": [
       "interactive(children=(FloatSlider(value=1.0, description='w', layout=Layout(width='75%'), max=5.0, min=-5.0, r…"
      ]
     },
     "execution_count": 3,
     "metadata": {},
     "output_type": "execute_result"
    }
   ],
   "source": [
    "def lorentzian(w, v, alpha):\n",
    "    x = np.abs(np.linspace(0, 0.25, 1000)) # distance\n",
    "    \n",
    "    y = (\n",
    "        w*x**2\n",
    "        + v*np.log(x**2 + alpha)\n",
    "    ) \n",
    "\n",
    "    fig, ax = plt.subplots()\n",
    "    # plt.figure(figsize=(8, 4))\n",
    "    ax.plot(x, y)\n",
    "    # ax.set_xticks(torch.arange(-1,1, 40))\n",
    "    ax.set_xlabel('height')\n",
    "    ax.set_ylabel('reward')\n",
    "    ax.set_title('Height-Rew')\n",
    "    \n",
    "    ax.set_xlim(0, 0.25)\n",
    "    ax.set_ylim(-1.5,1.5)\n",
    "    \n",
    "    plt.grid(True)\n",
    "    plt.show()\n",
    "\n",
    "    print(\"w \", w)\n",
    "    print(\"v \", v)\n",
    "    print(\"alpha \", alpha)\n",
    "\n",
    "#interactive_plot = interactive(lorentzian, {'manual': True}, w=(-1, 1, 0.001), v=(-1, 1, 0.001), alpha=(-1, 1, 0.0001))\n",
    "interactive_plot = interactive(\n",
    "    lorentzian, \n",
    "    w=FloatSlider(value=1, min=-5, max=5, step=0.001, readout_format = \".4f\", layout=Layout(width='75%')), \n",
    "    v=FloatSlider(value=1, min=-0, max=0.2, step=0.001, readout_format = \".4f\", layout=Layout(width='75%')), \n",
    "    alpha=FloatSlider(value=0.0001, min=-0.1, max=0.1, step=0.0001, readout_format = \".5f\", layout=Layout(width='75%'))\n",
    ")\n",
    "# interactive_plot.children[0].continuous_update = False\n",
    "\n",
    "output = interactive_plot.children[-1]\n",
    "output.layout.height = '750px'\n",
    "interactive_plot"
   ]
  },
  {
   "cell_type": "code",
   "execution_count": 4,
   "metadata": {},
   "outputs": [
    {
     "data": {
      "application/vnd.jupyter.widget-view+json": {
       "model_id": "6fa3b09af4064f858d9741ade59ab413",
       "version_major": 2,
       "version_minor": 0
      },
      "text/plain": [
       "interactive(children=(FloatSlider(value=0.9363, description='w', layout=Layout(width='75%'), max=1.0, readout_…"
      ]
     },
     "execution_count": 4,
     "metadata": {},
     "output_type": "execute_result"
    }
   ],
   "source": [
    "def obj_goal_tracking(w, v, alpha):\n",
    "    min_dist = -1\n",
    "    max_dist = 1#0.5\n",
    "    x = np.linspace(min_dist, max_dist, 1000) # distance\n",
    "    \n",
    "    y = -(\n",
    "        w*(x-0.0125)**2\n",
    "        + v*np.log((x-0.0125)**2 + alpha)\n",
    "    ) \n",
    "\n",
    "    # scale y in range \n",
    "    y = y/(v*np.log(alpha))\n",
    "\n",
    "    fig, ax = plt.subplots()\n",
    "    # plt.figure(figsize=(8, 4))\n",
    "    ax.plot(x, y)\n",
    "    # ax.set_xticks(torch.arange(-1,1, 40))\n",
    "    ax.set_xlabel('distance')\n",
    "    ax.set_ylabel('reward')\n",
    "    ax.set_title('Obj-Goal-Tracking-Rew')\n",
    "    \n",
    "    ax.set_xlim(min_dist, max_dist)\n",
    "    ax.set_ylim(-1.50,1.5)\n",
    "    # ax.set_ylim(-0.02,0.02)\n",
    "\n",
    "    plt.grid(True)\n",
    "    plt.show()\n",
    "\n",
    "    print(\"w \", w)\n",
    "    print(\"v \", v)\n",
    "    print(\"alpha \", alpha)\n",
    "\n",
    "#interactive_plot = interactive(lorentzian, {'manual': True}, w=(-1, 1, 0.001), v=(-1, 1, 0.001), alpha=(-1, 1, 0.0001))\n",
    "interactive_plot = interactive(\n",
    "    obj_goal_tracking, \n",
    "    w=FloatSlider(value=0.9363, min=0, max=1, step=0.00001, readout_format = \".4f\", layout=Layout(width='75%')), \n",
    "    v=FloatSlider(value=0.2531, min=0, max=1, step=0.00001, readout_format = \".4f\", layout=Layout(width='75%')), \n",
    "    alpha=FloatSlider(value=0.00950, min=0.00001, max=0.1, step=0.00001, readout_format = \".5f\", layout=Layout(width='75%'))\n",
    ")\n",
    "# interactive_plot.children[0].continuous_update = False\n",
    "\n",
    "output = interactive_plot.children[-1]\n",
    "output.layout.height = '750px'\n",
    "interactive_plot"
   ]
  },
  {
   "cell_type": "code",
   "execution_count": 5,
   "metadata": {},
   "outputs": [
    {
     "data": {
      "application/vnd.jupyter.widget-view+json": {
       "model_id": "13cf04bb08834a5daec3a8a643a2e93d",
       "version_major": 2,
       "version_minor": 0
      },
      "text/plain": [
       "interactive(children=(FloatSlider(value=0.1, description='w', layout=Layout(width='75%'), max=0.1, readout_for…"
      ]
     },
     "execution_count": 5,
     "metadata": {},
     "output_type": "execute_result"
    }
   ],
   "source": [
    "def obj_goal_tracking(w, v, alpha):\n",
    "    min_dist = -2\n",
    "    max_dist = 2#0.5\n",
    "    x = np.linspace(min_dist, max_dist, 1000) # distance\n",
    "    \n",
    "    y = -(\n",
    "        w*(x)**2\n",
    "        + v*np.log((x)**2 + alpha)\n",
    "    ) \n",
    "\n",
    "    # scale y in range \n",
    "    # y = y/(v*np.log(alpha))\n",
    "\n",
    "    fig, ax = plt.subplots()\n",
    "    # plt.figure(figsize=(8, 4))\n",
    "    ax.plot(x, y)\n",
    "    # ax.set_xticks(torch.arange(-1,1, 40))\n",
    "    ax.set_xlabel('distance')\n",
    "    ax.set_ylabel('reward')\n",
    "    ax.set_title('Obj-Goal-Tracking-Rew')\n",
    "    \n",
    "    # ax.set_xlim(min_dist, max_dist)\n",
    "    ax.set_ylim(-1.50,1.5)\n",
    "    # ax.set_ylim(-0.02,0.02)\n",
    "\n",
    "    plt.grid(True)\n",
    "    plt.show()\n",
    "\n",
    "    print(\"w \", w)\n",
    "    print(\"v \", v)\n",
    "    print(\"alpha \", alpha)\n",
    "\n",
    "#interactive_plot = interactive(lorentzian, {'manual': True}, w=(-1, 1, 0.001), v=(-1, 1, 0.001), alpha=(-1, 1, 0.0001))\n",
    "interactive_plot = interactive(\n",
    "    obj_goal_tracking, \n",
    "    w=FloatSlider(value=1, min=0, max=0.1, step=0.000001, readout_format = \".4f\", layout=Layout(width='75%')), \n",
    "    v=FloatSlider(value=1, min=0, max=10, step=0.00001, readout_format = \".4f\", layout=Layout(width='75%')), \n",
    "    alpha=FloatSlider(value=0.00001, min=0.00001, max=0.1, step=0.00001, readout_format = \".5f\", layout=Layout(width='75%'))\n",
    ")\n",
    "# interactive_plot.children[0].continuous_update = False\n",
    "\n",
    "output = interactive_plot.children[-1]\n",
    "output.layout.height = '750px'\n",
    "interactive_plot"
   ]
  },
  {
   "cell_type": "code",
   "execution_count": 12,
   "metadata": {},
   "outputs": [
    {
     "data": {
      "application/vnd.jupyter.widget-view+json": {
       "model_id": "0b5f76c46a754e30bf171d57fd581213",
       "version_major": 2,
       "version_minor": 0
      },
      "text/plain": [
       "interactive(children=(FloatSlider(value=0.0322, description='std1', layout=Layout(width='75%'), max=1.0, min=0…"
      ]
     },
     "execution_count": 12,
     "metadata": {},
     "output_type": "execute_result"
    }
   ],
   "source": [
    "def tanh(std1, std2, std3):\n",
    "    min_dist = 0\n",
    "    max_dist = 1\n",
    "    x = np.linspace(min_dist, max_dist, 1000) # distancev\n",
    "    \n",
    "    fig, ax = plt.subplots()\n",
    "    fig.suptitle(\"Tanh\")\n",
    "    # plt.figure(figsize=(8, 4))\n",
    "    ax.plot(x, 1-np.tanh(x**3/std1))\n",
    "    ax.plot(x, 1-np.tanh(x**2/std2)**2)\n",
    "    ax.plot(x, 1-np.tanh(x/std3))\n",
    "\n",
    "    # ax.set_xticks(torch.arange(-1,1, 40))\n",
    "    ax.set_xlabel('distance')\n",
    "    ax.set_ylabel('reward')\n",
    "    \n",
    "    ax.set_xlim(min_dist, max_dist)\n",
    "    ax.set_ylim(-0.25,1.1)\n",
    "    \n",
    "    plt.grid(True)\n",
    "    plt.show()\n",
    "\n",
    "#interactive_plot = interactive(lorentzian, {'manual': True}, w=(-1, 1, 0.001), v=(-1, 1, 0.001), alpha=(-1, 1, 0.0001))\n",
    "interactive_plot = interactive(\n",
    "    tanh, \n",
    "    std1=FloatSlider(value=0.0322, min=0.001, max=1, step=0.0001, readout_format = \".4f\", layout=Layout(width='75%')),\n",
    "    std2=FloatSlider(value=0.1063, min=0.0001, max=0.5, step=0.0001, readout_format = \".4f\", layout=Layout(width='75%')), \n",
    "    std3=FloatSlider(value=0.1, min=0.001, max=1, step=0.0001, readout_format = \".4f\", layout=Layout(width='75%')),\n",
    ")\n",
    "# interactive_plot.children[0].continuous_update = False\n",
    "\n",
    "output = interactive_plot.children[-1]\n",
    "output.layout.height = '500px'\n",
    "interactive_plot"
   ]
  },
  {
   "cell_type": "markdown",
   "metadata": {},
   "source": []
  },
  {
   "cell_type": "code",
   "execution_count": 9,
   "metadata": {},
   "outputs": [
    {
     "data": {
      "application/vnd.jupyter.widget-view+json": {
       "model_id": "46047e2283884a5498843ae10f3c2bd8",
       "version_major": 2,
       "version_minor": 0
      },
      "text/plain": [
       "interactive(children=(FloatSlider(value=0.0798, description='std1', layout=Layout(width='75%'), max=1.0, min=0…"
      ]
     },
     "execution_count": 9,
     "metadata": {},
     "output_type": "execute_result"
    }
   ],
   "source": [
    "def tanh_square(std1, std2, std3):\n",
    "    min_dist = 0\n",
    "    max_dist = 2\n",
    "    x = np.linspace(min_dist, max_dist, 1000) # distancev\n",
    "    \n",
    "    fig, ax = plt.subplots()\n",
    "    fig.suptitle(\"Tanh\")\n",
    "    # plt.figure(figsize=(8, 4))\n",
    "    ax.plot(x, 1-np.tanh(x/std1)**2)\n",
    "    ax.plot(x, 1-np.tanh(x/std2)**2)\n",
    "    ax.plot(x, 1-np.tanh(x/std3)**2)\n",
    "\n",
    "    # ax.set_xticks(torch.arange(-1,1, 40))\n",
    "    ax.set_xlabel('distance')\n",
    "    ax.set_ylabel('reward')\n",
    "    \n",
    "    # ax.set_xlim(min_dist, max_dist)\n",
    "    # ax.set_ylim(-0.25,1.1)\n",
    "    \n",
    "    plt.grid(True)\n",
    "    plt.show()\n",
    "\n",
    "#interactive_plot = interactive(lorentzian, {'manual': True}, w=(-1, 1, 0.001), v=(-1, 1, 0.001), alpha=(-1, 1, 0.0001))\n",
    "interactive_plot = interactive(\n",
    "    tanh_square, \n",
    "    std1=FloatSlider(value=0.0798, min=0.001, max=1, step=0.0001, readout_format = \".4f\", layout=Layout(width='75%')),\n",
    "    std2=FloatSlider(value=0.1, min=0.001, max=1, step=0.0001, readout_format = \".4f\", layout=Layout(width='75%')), \n",
    "    std3=FloatSlider(value=0.0322, min=0.001, max=1, step=0.0001, readout_format = \".4f\", layout=Layout(width='75%')),\n",
    ")\n",
    "# interactive_plot.children[0].continuous_update = False\n",
    "\n",
    "output = interactive_plot.children[-1]\n",
    "output.layout.height = '500px'\n",
    "interactive_plot"
   ]
  },
  {
   "cell_type": "code",
   "execution_count": null,
   "metadata": {},
   "outputs": [
    {
     "data": {
      "application/vnd.jupyter.widget-view+json": {
       "model_id": "4b8be8464322495abf9d13a3c41c5388",
       "version_major": 2,
       "version_minor": 0
      },
      "text/plain": [
       "interactive(children=(FloatSlider(value=0.0, description='w', layout=Layout(width='75%'), max=1.0, readout_for…"
      ]
     },
     "execution_count": 8,
     "metadata": {},
     "output_type": "execute_result"
    }
   ],
   "source": [
    "def height(w, v, alpha):\n",
    "    min_dist = -1\n",
    "    max_dist = 1#0.5\n",
    "    x = np.linspace(min_dist, max_dist, 1000) # distance\n",
    "    \n",
    "    target_height = 0.0125\n",
    "    y = -(\n",
    "        w*(x-target_height)**2\n",
    "        + v*np.log((x-target_height)**2 + alpha)\n",
    "    ) \n",
    "\n",
    "    # scale y in range \n",
    "    # y = y/(v*np.log(alpha))\n",
    "\n",
    "    fig, ax = plt.subplots()\n",
    "    # plt.figure(figsize=(8, 4))\n",
    "    ax.plot(x, y)\n",
    "    ax.axvline(x=target_height, c=\"r\", linestyle=\"--\") \n",
    "    # ax.set_xticks(torch.arange(-1,1, 40))\n",
    "    ax.set_xlabel('height')\n",
    "    ax.set_ylabel('reward')\n",
    "    ax.set_title('Height-Rew')\n",
    "    \n",
    "    ax.set_xlim(min_dist, max_dist)\n",
    "    ax.set_ylim(-1.50,1.5)\n",
    "    # ax.set_ylim(-0.02,0.02)\n",
    "\n",
    "    plt.grid(True)\n",
    "    plt.show()\n",
    "\n",
    "    print(\"w \", w)\n",
    "    print(\"v \", v)\n",
    "    print(\"alpha \", alpha)\n",
    "\n",
    "#interactive_plot = interactive(lorentzian, {'manual': True}, w=(-1, 1, 0.001), v=(-1, 1, 0.001), alpha=(-1, 1, 0.0001))\n",
    "interactive_plot = interactive(\n",
    "    height, \n",
    "    w=FloatSlider(value=0, min=0, max=1, step=0.00001, readout_format = \".4f\", layout=Layout(width='75%')), \n",
    "    v=FloatSlider(value=0.2531, min=0, max=1, step=0.00001, readout_format = \".4f\", layout=Layout(width='75%')), \n",
    "    alpha=FloatSlider(value=0.00950, min=0.00001, max=0.1, step=0.00001, readout_format = \".5f\", layout=Layout(width='75%'))\n",
    ")\n",
    "# interactive_plot.children[0].continuous_update = False\n",
    "\n",
    "output = interactive_plot.children[-1]\n",
    "output.layout.height = '750px'\n",
    "interactive_plot"
   ]
  }
 ],
 "metadata": {
  "kernelspec": {
   "display_name": "Python 3",
   "language": "python",
   "name": "python3"
  },
  "language_info": {
   "codemirror_mode": {
    "name": "ipython",
    "version": 3
   },
   "file_extension": ".py",
   "mimetype": "text/x-python",
   "name": "python",
   "nbconvert_exporter": "python",
   "pygments_lexer": "ipython3",
   "version": "3.10.15"
  }
 },
 "nbformat": 4,
 "nbformat_minor": 2
}
